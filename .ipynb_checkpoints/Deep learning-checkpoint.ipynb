{
 "cells": [
  {
   "cell_type": "code",
   "execution_count": 54,
   "metadata": {},
   "outputs": [],
   "source": [
    "import numpy as np\n",
    "import keras\n",
    "from keras.preprocessing import image\n",
    "from keras.applications import resnet50"
   ]
  },
  {
   "cell_type": "code",
   "execution_count": 19,
   "metadata": {},
   "outputs": [],
   "source": [
    "input_data = np.array([2,3])\n",
    "weights = {'node_0': np.array([1,1]),\n",
    "          'node_1': np.array([-1,1]),\n",
    "          'output': np.array([2, -1])}"
   ]
  },
  {
   "cell_type": "code",
   "execution_count": 20,
   "metadata": {},
   "outputs": [],
   "source": [
    "node_0_value = (input_data * weights['node_0']).sum()\n",
    "node_1_value = (input_data * weights['node_1']).sum()"
   ]
  },
  {
   "cell_type": "code",
   "execution_count": 21,
   "metadata": {},
   "outputs": [
    {
     "name": "stdout",
     "output_type": "stream",
     "text": [
      "[5 1]\n"
     ]
    }
   ],
   "source": [
    "hidden_layer_values = np.array([node_0_value, node_1_value])\n",
    "print(hidden_layer_values)"
   ]
  },
  {
   "cell_type": "code",
   "execution_count": 22,
   "metadata": {},
   "outputs": [
    {
     "name": "stdout",
     "output_type": "stream",
     "text": [
      "9\n"
     ]
    }
   ],
   "source": [
    "output = (hidden_layer_values * weights ['output']).sum()\n",
    "print(output)"
   ]
  },
  {
   "cell_type": "code",
   "execution_count": 23,
   "metadata": {},
   "outputs": [],
   "source": [
    "node_0_value = (input_data * weights['node_0']).sum()\n",
    "node_0_output = np.tanh(node_0_value)\n",
    "\n",
    "node_1_value = (input_data * weights['node_1']).sum()\n",
    "node_1_output = np.tanh(node_1_value)"
   ]
  },
  {
   "cell_type": "code",
   "execution_count": 24,
   "metadata": {},
   "outputs": [
    {
     "name": "stdout",
     "output_type": "stream",
     "text": [
      "[0.9999092  0.76159416]\n"
     ]
    }
   ],
   "source": [
    "hidden_layer_values = np.array([node_0_output, node_1_output])\n",
    "print(hidden_layer_values)"
   ]
  },
  {
   "cell_type": "code",
   "execution_count": 25,
   "metadata": {},
   "outputs": [
    {
     "name": "stdout",
     "output_type": "stream",
     "text": [
      "1.2382242525694254\n"
     ]
    }
   ],
   "source": [
    "output = (hidden_layer_values * weights ['output']).sum()\n",
    "print(output)"
   ]
  },
  {
   "cell_type": "code",
   "execution_count": 26,
   "metadata": {},
   "outputs": [
    {
     "name": "stdout",
     "output_type": "stream",
     "text": [
      "5\n"
     ]
    }
   ],
   "source": [
    "weights = np.array([1,2])\n",
    "input_data = np.array([3,4])\n",
    "target = 6\n",
    "learning_rate = 0.01\n",
    "preds = (weights * input_data).sum()\n",
    "\n",
    "error = preds - target\n",
    "print(error)"
   ]
  },
  {
   "cell_type": "code",
   "execution_count": 27,
   "metadata": {},
   "outputs": [
    {
     "data": {
      "text/plain": [
       "array([30, 40])"
      ]
     },
     "execution_count": 27,
     "metadata": {},
     "output_type": "execute_result"
    }
   ],
   "source": [
    "gradient = 2 * input_data * error\n",
    "gradient"
   ]
  },
  {
   "cell_type": "code",
   "execution_count": 28,
   "metadata": {},
   "outputs": [
    {
     "name": "stdout",
     "output_type": "stream",
     "text": [
      "2.5\n"
     ]
    }
   ],
   "source": [
    "weights_updated = weights - learning_rate * gradient\n",
    "preds_updated = (weights_updated * input_data).sum()\n",
    "\n",
    "error_updated = preds_updated - target\n",
    "\n",
    "print(error_updated)"
   ]
  },
  {
   "cell_type": "code",
   "execution_count": 55,
   "metadata": {},
   "outputs": [],
   "source": [
    "from keras.layers import Dense\n",
    "from keras.models import Sequential\n",
    "\n",
    "#predictors = np.loadtxt('predictors_data.csv', delimiter= ',')"
   ]
  },
  {
   "cell_type": "code",
   "execution_count": 30,
   "metadata": {},
   "outputs": [],
   "source": [
    "#model = Sequential()\n",
    "#model.add(Dense(100, activation ='Relu'))"
   ]
  },
  {
   "cell_type": "code",
   "execution_count": 31,
   "metadata": {},
   "outputs": [],
   "source": [
    "model.compile(optimizer='adam', loss='mean_squared_error')\n",
    "#model.fit(predictors,target)"
   ]
  },
  {
   "cell_type": "code",
   "execution_count": 32,
   "metadata": {},
   "outputs": [],
   "source": [
    "import tensorflow as tf\n",
    "hello = tf.constant('Hello, Tensorflow!')\n",
    "#sess = tf.Session()\n",
    "#print(sess.run(hello))"
   ]
  },
  {
   "cell_type": "code",
   "execution_count": 33,
   "metadata": {},
   "outputs": [
    {
     "name": "stdout",
     "output_type": "stream",
     "text": [
      "tf.Tensor(-1618.24, shape=(), dtype=float32)\n"
     ]
    }
   ],
   "source": [
    "print(tf.reduce_sum(tf.random.normal([1000,1000])))"
   ]
  },
  {
   "cell_type": "code",
   "execution_count": 34,
   "metadata": {},
   "outputs": [],
   "source": [
    "#print(\"Tensorflow version is \")"
   ]
  },
  {
   "cell_type": "code",
   "execution_count": 35,
   "metadata": {},
   "outputs": [],
   "source": [
    "from keras import backend as kbe"
   ]
  },
  {
   "cell_type": "code",
   "execution_count": 36,
   "metadata": {},
   "outputs": [
    {
     "name": "stdout",
     "output_type": "stream",
     "text": [
      "[[0. 0.]\n",
      " [0. 0.]\n",
      " [0. 0.]\n",
      " [0. 0.]]\n"
     ]
    }
   ],
   "source": [
    "data = kbe.variable(np.random.random((4,2)))\n",
    "zero_data = kbe.zeros_like(data)               # create 4 X 2 tensor of zeros\n",
    "print(kbe.eval(zero_data))"
   ]
  },
  {
   "cell_type": "code",
   "execution_count": 37,
   "metadata": {},
   "outputs": [],
   "source": [
    "import os\n",
    "os.environ[\"TF_CPP_MIN_LOG_LEVEL\"]=\"2\""
   ]
  },
  {
   "cell_type": "code",
   "execution_count": 38,
   "metadata": {},
   "outputs": [],
   "source": [
    "from sklearn.datasets import make_blobs\n",
    "from sklearn.datasets import make_circles\n",
    "import numpy as np\n",
    "import matplotlib.pyplot as plt"
   ]
  },
  {
   "cell_type": "code",
   "execution_count": 39,
   "metadata": {},
   "outputs": [],
   "source": [
    "def plot_data(pl, X, y):\n",
    "    # plot class where y==0\n",
    "    pl.plot(X[y==0, 0], X[y==0,1], 'ob', alpha=0.5)\n",
    "    # plot class where y==1\n",
    "    pl.plot(X[y==1, 0], X[y==1,1], 'xr', alpha=0.5)\n",
    "    pl.legend(['0', '1'])\n",
    "    return pl"
   ]
  },
  {
   "cell_type": "code",
   "execution_count": 40,
   "metadata": {},
   "outputs": [],
   "source": [
    "def plot_decision_boundary(model, X, y):\n",
    "\n",
    "    amin, bmin = X.min(axis=0) - 0.1\n",
    "    amax, bmax = X.max(axis=0) + 0.1\n",
    "    hticks = np.linspace(amin, amax, 101)\n",
    "    vticks = np.linspace(bmin, bmax, 101)\n",
    "    \n",
    "    aa, bb = np.meshgrid(hticks, vticks)\n",
    "    ab = np.c_[aa.ravel(), bb.ravel()]\n",
    "    \n",
    "    # make prediction with the model and reshape the output so contourf can plot it\n",
    "    c = model.predict(ab)\n",
    "    Z = c.reshape(aa.shape)\n",
    "\n",
    "    plt.figure(figsize=(12, 8))\n",
    "    # plot the contour\n",
    "    plt.contourf(aa, bb, Z, cmap='bwr', alpha=0.2)\n",
    "    # plot the moons of data\n",
    "    plot_data(plt, X, y)\n",
    "\n",
    "    return plt"
   ]
  },
  {
   "cell_type": "code",
   "execution_count": 41,
   "metadata": {},
   "outputs": [
    {
     "data": {
      "image/png": "[encoded data removed]",
      "text/plain": [
       "<Figure size 432x288 with 1 Axes>"
      ]
     },
     "metadata": {
      "needs_background": "light"
     },
     "output_type": "display_data"
    }
   ],
   "source": [
    "X, y = make_blobs(n_samples=1000, centers=2, random_state=42)\n",
    "\n",
    "pl = plot_data(plt, X, y)\n",
    "pl.show()"
   ]
  },
  {
   "cell_type": "code",
   "execution_count": 42,
   "metadata": {},
   "outputs": [
    {
     "data": {
      "image/png": "[encoded data removed]",
      "text/plain": [
       "<Figure size 432x288 with 1 Axes>"
      ]
     },
     "metadata": {
      "needs_background": "light"
     },
     "output_type": "display_data"
    }
   ],
   "source": [
    "X, y = make_circles(n_samples=1000, factor=.6, noise=0.1, random_state=42)\n",
    "\n",
    "pl = plot_data(plt, X, y)\n",
    "pl.show()"
   ]
  },
  {
   "cell_type": "code",
   "execution_count": 43,
   "metadata": {},
   "outputs": [
    {
     "name": "stdout",
     "output_type": "stream",
     "text": [
      "Epoch 1/100\n",
      "700/700 [==============================] - 0s 328us/step - loss: 0.7253 - accuracy: 0.5143\n",
      "Epoch 2/100\n",
      "700/700 [==============================] - 0s 56us/step - loss: 0.6938 - accuracy: 0.5729\n",
      "Epoch 3/100\n",
      "700/700 [==============================] - 0s 72us/step - loss: 0.6962 - accuracy: 0.4600\n",
      "Epoch 4/100\n",
      "700/700 [==============================] - 0s 71us/step - loss: 0.6958 - accuracy: 0.4857\n",
      "Epoch 5/100\n",
      "700/700 [==============================] - 0s 57us/step - loss: 0.6956 - accuracy: 0.5229\n",
      "Epoch 6/100\n",
      "700/700 [==============================] - 0s 53us/step - loss: 0.6946 - accuracy: 0.5057\n",
      "Epoch 7/100\n",
      "700/700 [==============================] - 0s 58us/step - loss: 0.6937 - accuracy: 0.5629\n",
      "Epoch 8/100\n",
      "700/700 [==============================] - 0s 53us/step - loss: 0.6956 - accuracy: 0.4743\n",
      "Epoch 9/100\n",
      "700/700 [==============================] - 0s 63us/step - loss: 0.6951 - accuracy: 0.5486\n",
      "Epoch 10/100\n",
      "700/700 [==============================] - 0s 53us/step - loss: 0.6947 - accuracy: 0.5271\n",
      "Epoch 11/100\n",
      "700/700 [==============================] - 0s 58us/step - loss: 0.6946 - accuracy: 0.5014\n",
      "Epoch 12/100\n",
      "700/700 [==============================] - 0s 53us/step - loss: 0.6950 - accuracy: 0.5343\n",
      "Epoch 13/100\n",
      "700/700 [==============================] - 0s 123us/step - loss: 0.6938 - accuracy: 0.5557\n",
      "Epoch 14/100\n",
      "700/700 [==============================] - 0s 90us/step - loss: 0.6965 - accuracy: 0.4929\n",
      "Epoch 15/100\n",
      "700/700 [==============================] - 0s 77us/step - loss: 0.6952 - accuracy: 0.5129\n",
      "Epoch 16/100\n",
      "700/700 [==============================] - 0s 75us/step - loss: 0.6946 - accuracy: 0.5257\n",
      "Epoch 17/100\n",
      "700/700 [==============================] - 0s 72us/step - loss: 0.6952 - accuracy: 0.4386\n",
      "Epoch 18/100\n",
      "700/700 [==============================] - 0s 77us/step - loss: 0.6956 - accuracy: 0.5643\n",
      "Epoch 19/100\n",
      "700/700 [==============================] - 0s 70us/step - loss: 0.6945 - accuracy: 0.5043\n",
      "Epoch 20/100\n",
      "700/700 [==============================] - 0s 65us/step - loss: 0.6960 - accuracy: 0.5071\n",
      "Epoch 21/100\n",
      "700/700 [==============================] - 0s 52us/step - loss: 0.6951 - accuracy: 0.4457\n",
      "Epoch 22/100\n",
      "700/700 [==============================] - 0s 66us/step - loss: 0.6968 - accuracy: 0.5443\n",
      "Epoch 23/100\n",
      "700/700 [==============================] - 0s 50us/step - loss: 0.6989 - accuracy: 0.4586\n",
      "Epoch 24/100\n",
      "700/700 [==============================] - 0s 52us/step - loss: 0.6950 - accuracy: 0.6014\n",
      "Epoch 25/100\n",
      "700/700 [==============================] - 0s 58us/step - loss: 0.6948 - accuracy: 0.5271\n",
      "Epoch 26/100\n",
      "700/700 [==============================] - 0s 50us/step - loss: 0.6974 - accuracy: 0.5529\n",
      "Epoch 27/100\n",
      "700/700 [==============================] - 0s 56us/step - loss: 0.6940 - accuracy: 0.5671\n",
      "Epoch 28/100\n",
      "700/700 [==============================] - 0s 55us/step - loss: 0.6941 - accuracy: 0.5229\n",
      "Epoch 29/100\n",
      "700/700 [==============================] - 0s 56us/step - loss: 0.6948 - accuracy: 0.5129\n",
      "Epoch 30/100\n",
      "700/700 [==============================] - 0s 57us/step - loss: 0.6953 - accuracy: 0.4271\n",
      "Epoch 31/100\n",
      "700/700 [==============================] - 0s 55us/step - loss: 0.6969 - accuracy: 0.5343\n",
      "Epoch 32/100\n",
      "700/700 [==============================] - 0s 59us/step - loss: 0.6943 - accuracy: 0.5414\n",
      "Epoch 33/100\n",
      "700/700 [==============================] - 0s 63us/step - loss: 0.6950 - accuracy: 0.4771\n",
      "Epoch 34/100\n",
      "700/700 [==============================] - 0s 51us/step - loss: 0.6953 - accuracy: 0.5114\n",
      "Epoch 35/100\n",
      "700/700 [==============================] - 0s 52us/step - loss: 0.6945 - accuracy: 0.5329\n",
      "Epoch 36/100\n",
      "700/700 [==============================] - 0s 68us/step - loss: 0.6946 - accuracy: 0.4986\n",
      "Epoch 37/100\n",
      "700/700 [==============================] - 0s 85us/step - loss: 0.6965 - accuracy: 0.5071\n",
      "Epoch 38/100\n",
      "700/700 [==============================] - 0s 90us/step - loss: 0.6945 - accuracy: 0.5129\n",
      "Epoch 39/100\n",
      "700/700 [==============================] - 0s 96us/step - loss: 0.6965 - accuracy: 0.4414\n",
      "Epoch 40/100\n",
      "700/700 [==============================] - 0s 105us/step - loss: 0.6963 - accuracy: 0.5657\n",
      "Epoch 41/100\n",
      "700/700 [==============================] - 0s 81us/step - loss: 0.6960 - accuracy: 0.4700\n",
      "Epoch 42/100\n",
      "700/700 [==============================] - 0s 85us/step - loss: 0.6946 - accuracy: 0.5243\n",
      "Epoch 43/100\n",
      "700/700 [==============================] - 0s 112us/step - loss: 0.6949 - accuracy: 0.5571\n",
      "Epoch 44/100\n",
      "700/700 [==============================] - 0s 71us/step - loss: 0.6942 - accuracy: 0.4457\n",
      "Epoch 45/100\n",
      "700/700 [==============================] - 0s 65us/step - loss: 0.6970 - accuracy: 0.5000\n",
      "Epoch 46/100\n",
      "700/700 [==============================] - 0s 67us/step - loss: 0.6939 - accuracy: 0.5271\n",
      "Epoch 47/100\n",
      "700/700 [==============================] - 0s 95us/step - loss: 0.6940 - accuracy: 0.5357\n",
      "Epoch 48/100\n",
      "700/700 [==============================] - 0s 113us/step - loss: 0.6947 - accuracy: 0.5443\n",
      "Epoch 49/100\n",
      "700/700 [==============================] - 0s 85us/step - loss: 0.6939 - accuracy: 0.5243\n",
      "Epoch 50/100\n",
      "700/700 [==============================] - 0s 63us/step - loss: 0.6958 - accuracy: 0.5086\n",
      "Epoch 51/100\n",
      "700/700 [==============================] - 0s 58us/step - loss: 0.6947 - accuracy: 0.5000\n",
      "Epoch 52/100\n",
      "700/700 [==============================] - 0s 58us/step - loss: 0.6946 - accuracy: 0.5529\n",
      "Epoch 53/100\n",
      "700/700 [==============================] - 0s 64us/step - loss: 0.6951 - accuracy: 0.4757\n",
      "Epoch 54/100\n",
      "700/700 [==============================] - 0s 51us/step - loss: 0.6957 - accuracy: 0.5586\n",
      "Epoch 55/100\n",
      "700/700 [==============================] - 0s 58us/step - loss: 0.6942 - accuracy: 0.5200\n",
      "Epoch 56/100\n",
      "700/700 [==============================] - 0s 113us/step - loss: 0.6936 - accuracy: 0.5086\n",
      "Epoch 57/100\n",
      "700/700 [==============================] - 0s 105us/step - loss: 0.6950 - accuracy: 0.4957\n",
      "Epoch 58/100\n",
      "700/700 [==============================] - 0s 102us/step - loss: 0.6938 - accuracy: 0.5343\n",
      "Epoch 59/100\n",
      "700/700 [==============================] - 0s 65us/step - loss: 0.6951 - accuracy: 0.5129\n",
      "Epoch 60/100\n",
      "700/700 [==============================] - 0s 54us/step - loss: 0.6959 - accuracy: 0.4871\n",
      "Epoch 61/100\n",
      "700/700 [==============================] - 0s 69us/step - loss: 0.6941 - accuracy: 0.5186\n",
      "Epoch 62/100\n",
      "700/700 [==============================] - 0s 63us/step - loss: 0.6960 - accuracy: 0.4643\n",
      "Epoch 63/100\n",
      "700/700 [==============================] - 0s 99us/step - loss: 0.6952 - accuracy: 0.5600\n",
      "Epoch 64/100\n",
      "700/700 [==============================] - 0s 106us/step - loss: 0.6936 - accuracy: 0.5557\n",
      "Epoch 65/100\n",
      "700/700 [==============================] - 0s 97us/step - loss: 0.6951 - accuracy: 0.5143\n",
      "Epoch 66/100\n",
      "700/700 [==============================] - 0s 90us/step - loss: 0.6944 - accuracy: 0.5129\n",
      "Epoch 67/100\n",
      "700/700 [==============================] - 0s 68us/step - loss: 0.6955 - accuracy: 0.4314\n",
      "Epoch 68/100\n",
      "700/700 [==============================] - 0s 75us/step - loss: 0.6948 - accuracy: 0.5243\n",
      "Epoch 69/100\n",
      "700/700 [==============================] - 0s 71us/step - loss: 0.6949 - accuracy: 0.4900\n",
      "Epoch 70/100\n",
      "700/700 [==============================] - 0s 113us/step - loss: 0.6952 - accuracy: 0.5743\n",
      "Epoch 71/100\n",
      "700/700 [==============================] - 0s 140us/step - loss: 0.6946 - accuracy: 0.5257\n",
      "Epoch 72/100\n",
      "700/700 [==============================] - 0s 56us/step - loss: 0.6948 - accuracy: 0.5943\n",
      "Epoch 73/100\n",
      "700/700 [==============================] - 0s 120us/step - loss: 0.6946 - accuracy: 0.4929\n",
      "Epoch 74/100\n",
      "700/700 [==============================] - 0s 64us/step - loss: 0.6947 - accuracy: 0.4629\n",
      "Epoch 75/100\n",
      "700/700 [==============================] - 0s 83us/step - loss: 0.6956 - accuracy: 0.5371\n",
      "Epoch 76/100\n",
      "700/700 [==============================] - 0s 92us/step - loss: 0.6947 - accuracy: 0.5629\n",
      "Epoch 77/100\n",
      "700/700 [==============================] - 0s 72us/step - loss: 0.6944 - accuracy: 0.5243\n",
      "Epoch 78/100\n",
      "700/700 [==============================] - 0s 66us/step - loss: 0.6960 - accuracy: 0.4129\n",
      "Epoch 79/100\n",
      "700/700 [==============================] - 0s 74us/step - loss: 0.6950 - accuracy: 0.5086\n",
      "Epoch 80/100\n"
     ]
    },
    {
     "name": "stdout",
     "output_type": "stream",
     "text": [
      "700/700 [==============================] - 0s 65us/step - loss: 0.6951 - accuracy: 0.5057\n",
      "Epoch 81/100\n",
      "700/700 [==============================] - 0s 54us/step - loss: 0.6939 - accuracy: 0.5443\n",
      "Epoch 82/100\n",
      "700/700 [==============================] - 0s 52us/step - loss: 0.6961 - accuracy: 0.5286\n",
      "Epoch 83/100\n",
      "700/700 [==============================] - 0s 50us/step - loss: 0.6962 - accuracy: 0.4571\n",
      "Epoch 84/100\n",
      "700/700 [==============================] - 0s 46us/step - loss: 0.6942 - accuracy: 0.5443\n",
      "Epoch 85/100\n",
      "700/700 [==============================] - 0s 48us/step - loss: 0.6953 - accuracy: 0.5257\n",
      "Epoch 86/100\n",
      "700/700 [==============================] - 0s 47us/step - loss: 0.6956 - accuracy: 0.4443\n",
      "Epoch 87/100\n",
      "700/700 [==============================] - 0s 70us/step - loss: 0.6954 - accuracy: 0.5257\n",
      "Epoch 88/100\n",
      "700/700 [==============================] - 0s 78us/step - loss: 0.6965 - accuracy: 0.4843\n",
      "Epoch 89/100\n",
      "700/700 [==============================] - 0s 94us/step - loss: 0.6989 - accuracy: 0.5929\n",
      "Epoch 90/100\n",
      "700/700 [==============================] - 0s 70us/step - loss: 0.6975 - accuracy: 0.4443\n",
      "Epoch 91/100\n",
      "700/700 [==============================] - 0s 67us/step - loss: 0.6946 - accuracy: 0.5971\n",
      "Epoch 92/100\n",
      "700/700 [==============================] - 0s 98us/step - loss: 0.6937 - accuracy: 0.5600\n",
      "Epoch 93/100\n",
      "700/700 [==============================] - 0s 68us/step - loss: 0.6956 - accuracy: 0.4929\n",
      "Epoch 94/100\n",
      "700/700 [==============================] - 0s 56us/step - loss: 0.6946 - accuracy: 0.5286\n",
      "Epoch 95/100\n",
      "700/700 [==============================] - 0s 109us/step - loss: 0.6941 - accuracy: 0.5443\n",
      "Epoch 96/100\n",
      "700/700 [==============================] - 0s 104us/step - loss: 0.6942 - accuracy: 0.5143\n",
      "Epoch 97/100\n",
      "700/700 [==============================] - 0s 74us/step - loss: 0.6934 - accuracy: 0.5929\n",
      "Epoch 98/100\n",
      "700/700 [==============================] - 0s 62us/step - loss: 0.6949 - accuracy: 0.4686\n",
      "Epoch 99/100\n",
      "700/700 [==============================] - 0s 62us/step - loss: 0.6944 - accuracy: 0.5786\n",
      "Epoch 100/100\n",
      "700/700 [==============================] - 0s 66us/step - loss: 0.6946 - accuracy: 0.5257\n",
      "300/300 [==============================] - 0s 173us/step\n",
      "\n",
      "\n",
      "Test loss: 0.6956713875134786 Test accuracy: 0.5\n"
     ]
    },
    {
     "data": {
      "image/png": "[encoded data removed]",
      "text/plain": [
       "<Figure size 864x576 with 1 Axes>"
      ]
     },
     "metadata": {
      "needs_background": "light"
     },
     "output_type": "display_data"
    }
   ],
   "source": [
    "from sklearn.model_selection import train_test_split\n",
    "X_train, X_test, y_train, y_test = train_test_split(X, y, test_size=0.3, random_state=42)\n",
    "\n",
    "# Create the keras model\n",
    "from keras.models import Sequential\n",
    "from keras.layers import Dense\n",
    "from keras.optimizers import Adam\n",
    "\n",
    "#   Simple Sequential model\n",
    "model = Sequential()\n",
    "model.add(Dense(1, activation=\"sigmoid\", name=\"output_layer\"))\n",
    "\n",
    "#   Compile the model.  Minimize crossentopy for a binary.  Maximize for accuracy\n",
    "model.compile(Adam(lr=0.05), 'binary_crossentropy', metrics=['accuracy'])\n",
    " \n",
    "model.fit(X_train, y_train, epochs=100, verbose=1)\n",
    "#   Get loss and accuracy on test data\n",
    "eval_result = model.evaluate(X_test, y_test)\n",
    "#Print test accuracy\n",
    "print(\"\\n\\nTest loss:\", eval_result[0], \"Test accuracy:\", eval_result[1])\n",
    "#   Plot the decision boundary\n",
    "plot_decision_boundary(model, X, y).show()"
   ]
  },
  {
   "cell_type": "code",
   "execution_count": 44,
   "metadata": {},
   "outputs": [],
   "source": [
    "from sklearn.model_selection import train_test_split\n",
    "X_train, X_test, y_train, y_test = train_test_split(X, y, test_size=0.3, random_state=42)"
   ]
  },
  {
   "cell_type": "code",
   "execution_count": 58,
   "metadata": {},
   "outputs": [],
   "source": [
    "from keras.models import Sequential\n",
    "from keras.layers import Dense\n",
    "from keras.optimizers import Adam\n",
    "from keras.layers import *"
   ]
  },
  {
   "cell_type": "code",
   "execution_count": 46,
   "metadata": {},
   "outputs": [
    {
     "name": "stdout",
     "output_type": "stream",
     "text": [
      "Epoch 1/100\n",
      "700/700 [==============================] - 0s 314us/step - loss: 0.7128 - accuracy: 0.4943\n",
      "Epoch 2/100\n",
      "700/700 [==============================] - 0s 69us/step - loss: 0.6946 - accuracy: 0.5229\n",
      "Epoch 3/100\n",
      "700/700 [==============================] - 0s 54us/step - loss: 0.6951 - accuracy: 0.5029\n",
      "Epoch 4/100\n",
      "700/700 [==============================] - 0s 55us/step - loss: 0.6942 - accuracy: 0.5271\n",
      "Epoch 5/100\n",
      "700/700 [==============================] - 0s 56us/step - loss: 0.6948 - accuracy: 0.5586\n",
      "Epoch 6/100\n",
      "700/700 [==============================] - 0s 136us/step - loss: 0.6947 - accuracy: 0.5757\n",
      "Epoch 7/100\n",
      "700/700 [==============================] - 0s 133us/step - loss: 0.6968 - accuracy: 0.4686\n",
      "Epoch 8/100\n",
      "700/700 [==============================] - 0s 133us/step - loss: 0.6955 - accuracy: 0.5243\n",
      "Epoch 9/100\n",
      "700/700 [==============================] - 0s 163us/step - loss: 0.6962 - accuracy: 0.4857\n",
      "Epoch 10/100\n",
      "700/700 [==============================] - 0s 151us/step - loss: 0.6943 - accuracy: 0.5271\n",
      "Epoch 11/100\n",
      "700/700 [==============================] - 0s 94us/step - loss: 0.6955 - accuracy: 0.4886\n",
      "Epoch 12/100\n",
      "700/700 [==============================] - 0s 71us/step - loss: 0.6973 - accuracy: 0.5257\n",
      "Epoch 13/100\n",
      "700/700 [==============================] - 0s 106us/step - loss: 0.6937 - accuracy: 0.5529\n",
      "Epoch 14/100\n",
      "700/700 [==============================] - 0s 120us/step - loss: 0.6960 - accuracy: 0.4571\n",
      "Epoch 15/100\n",
      "700/700 [==============================] - 0s 120us/step - loss: 0.6954 - accuracy: 0.5086\n",
      "Epoch 16/100\n",
      "700/700 [==============================] - 0s 211us/step - loss: 0.6957 - accuracy: 0.4900\n",
      "Epoch 17/100\n",
      "700/700 [==============================] - 0s 96us/step - loss: 0.6964 - accuracy: 0.5257\n",
      "Epoch 18/100\n",
      "700/700 [==============================] - 0s 99us/step - loss: 0.6945 - accuracy: 0.5686\n",
      "Epoch 19/100\n",
      "700/700 [==============================] - 0s 68us/step - loss: 0.6939 - accuracy: 0.5386\n",
      "Epoch 20/100\n",
      "700/700 [==============================] - 0s 67us/step - loss: 0.6966 - accuracy: 0.4786\n",
      "Epoch 21/100\n",
      "700/700 [==============================] - 0s 303us/step - loss: 0.6952 - accuracy: 0.5229\n",
      "Epoch 22/100\n",
      "700/700 [==============================] - 0s 162us/step - loss: 0.6941 - accuracy: 0.5386\n",
      "Epoch 23/100\n",
      "700/700 [==============================] - 0s 113us/step - loss: 0.6946 - accuracy: 0.5229\n",
      "Epoch 24/100\n",
      "700/700 [==============================] - 0s 72us/step - loss: 0.6949 - accuracy: 0.5300\n",
      "Epoch 25/100\n",
      "700/700 [==============================] - 0s 51us/step - loss: 0.6952 - accuracy: 0.4429\n",
      "Epoch 26/100\n",
      "700/700 [==============================] - 0s 85us/step - loss: 0.6941 - accuracy: 0.5414\n",
      "Epoch 27/100\n",
      "700/700 [==============================] - 0s 92us/step - loss: 0.6968 - accuracy: 0.4900\n",
      "Epoch 28/100\n",
      "700/700 [==============================] - 0s 101us/step - loss: 0.6951 - accuracy: 0.5457\n",
      "Epoch 29/100\n",
      "700/700 [==============================] - 0s 77us/step - loss: 0.6964 - accuracy: 0.5129\n",
      "Epoch 30/100\n",
      "700/700 [==============================] - 0s 94us/step - loss: 0.6977 - accuracy: 0.4929\n",
      "Epoch 31/100\n",
      "700/700 [==============================] - 0s 98us/step - loss: 0.6975 - accuracy: 0.5129\n",
      "Epoch 32/100\n",
      "700/700 [==============================] - 0s 89us/step - loss: 0.6944 - accuracy: 0.5157\n",
      "Epoch 33/100\n",
      "700/700 [==============================] - 0s 69us/step - loss: 0.6952 - accuracy: 0.5086\n",
      "Epoch 34/100\n",
      "700/700 [==============================] - 0s 119us/step - loss: 0.6968 - accuracy: 0.4386\n",
      "Epoch 35/100\n",
      "700/700 [==============================] - 0s 66us/step - loss: 0.6956 - accuracy: 0.5357\n",
      "Epoch 36/100\n",
      "700/700 [==============================] - 0s 60us/step - loss: 0.6945 - accuracy: 0.5557\n",
      "Epoch 37/100\n",
      "700/700 [==============================] - 0s 58us/step - loss: 0.6946 - accuracy: 0.5486\n",
      "Epoch 38/100\n",
      "700/700 [==============================] - 0s 53us/step - loss: 0.6943 - accuracy: 0.4929\n",
      "Epoch 39/100\n",
      "700/700 [==============================] - 0s 58us/step - loss: 0.6948 - accuracy: 0.5157\n",
      "Epoch 40/100\n",
      "700/700 [==============================] - 0s 71us/step - loss: 0.6949 - accuracy: 0.5086\n",
      "Epoch 41/100\n",
      "700/700 [==============================] - 0s 77us/step - loss: 0.6945 - accuracy: 0.5157\n",
      "Epoch 42/100\n",
      "700/700 [==============================] - 0s 55us/step - loss: 0.6960 - accuracy: 0.5500\n",
      "Epoch 43/100\n",
      "700/700 [==============================] - 0s 53us/step - loss: 0.6960 - accuracy: 0.4443\n",
      "Epoch 44/100\n",
      "700/700 [==============================] - 0s 51us/step - loss: 0.6958 - accuracy: 0.5429\n",
      "Epoch 45/100\n",
      "700/700 [==============================] - 0s 57us/step - loss: 0.6954 - accuracy: 0.4829\n",
      "Epoch 46/100\n",
      "700/700 [==============================] - 0s 53us/step - loss: 0.6945 - accuracy: 0.5157\n",
      "Epoch 47/100\n",
      "700/700 [==============================] - 0s 52us/step - loss: 0.6941 - accuracy: 0.5757\n",
      "Epoch 48/100\n",
      "700/700 [==============================] - 0s 61us/step - loss: 0.6958 - accuracy: 0.4586\n",
      "Epoch 49/100\n",
      "700/700 [==============================] - 0s 58us/step - loss: 0.6949 - accuracy: 0.5429\n",
      "Epoch 50/100\n",
      "700/700 [==============================] - 0s 54us/step - loss: 0.6946 - accuracy: 0.5357\n",
      "Epoch 51/100\n",
      "700/700 [==============================] - 0s 54us/step - loss: 0.6948 - accuracy: 0.5243\n",
      "Epoch 52/100\n",
      "700/700 [==============================] - 0s 53us/step - loss: 0.6949 - accuracy: 0.5557\n",
      "Epoch 53/100\n",
      "700/700 [==============================] - 0s 55us/step - loss: 0.6933 - accuracy: 0.5729\n",
      "Epoch 54/100\n",
      "700/700 [==============================] - 0s 56us/step - loss: 0.6961 - accuracy: 0.4871\n",
      "Epoch 55/100\n",
      "700/700 [==============================] - 0s 51us/step - loss: 0.6939 - accuracy: 0.5557\n",
      "Epoch 56/100\n",
      "700/700 [==============================] - 0s 52us/step - loss: 0.6944 - accuracy: 0.5243\n",
      "Epoch 57/100\n",
      "700/700 [==============================] - 0s 110us/step - loss: 0.6939 - accuracy: 0.5429\n",
      "Epoch 58/100\n",
      "700/700 [==============================] - 0s 57us/step - loss: 0.6957 - accuracy: 0.5086\n",
      "Epoch 59/100\n",
      "700/700 [==============================] - 0s 54us/step - loss: 0.6958 - accuracy: 0.5600\n",
      "Epoch 60/100\n",
      "700/700 [==============================] - 0s 51us/step - loss: 0.6941 - accuracy: 0.5586\n",
      "Epoch 61/100\n",
      "700/700 [==============================] - 0s 53us/step - loss: 0.6970 - accuracy: 0.4357\n",
      "Epoch 62/100\n",
      "700/700 [==============================] - 0s 49us/step - loss: 0.6967 - accuracy: 0.5386\n",
      "Epoch 63/100\n",
      "700/700 [==============================] - 0s 46us/step - loss: 0.6935 - accuracy: 0.5114\n",
      "Epoch 64/100\n",
      "700/700 [==============================] - 0s 48us/step - loss: 0.6955 - accuracy: 0.4800\n",
      "Epoch 65/100\n",
      "700/700 [==============================] - 0s 49us/step - loss: 0.6947 - accuracy: 0.5386\n",
      "Epoch 66/100\n",
      "700/700 [==============================] - 0s 50us/step - loss: 0.6943 - accuracy: 0.4986\n",
      "Epoch 67/100\n",
      "700/700 [==============================] - 0s 53us/step - loss: 0.6960 - accuracy: 0.5343\n",
      "Epoch 68/100\n",
      "700/700 [==============================] - 0s 70us/step - loss: 0.6944 - accuracy: 0.4886\n",
      "Epoch 69/100\n",
      "700/700 [==============================] - 0s 55us/step - loss: 0.6946 - accuracy: 0.5814\n",
      "Epoch 70/100\n",
      "700/700 [==============================] - 0s 51us/step - loss: 0.6938 - accuracy: 0.5343\n",
      "Epoch 71/100\n",
      "700/700 [==============================] - 0s 46us/step - loss: 0.6959 - accuracy: 0.5029\n",
      "Epoch 72/100\n",
      "700/700 [==============================] - 0s 55us/step - loss: 0.6948 - accuracy: 0.5029\n",
      "Epoch 73/100\n",
      "700/700 [==============================] - 0s 49us/step - loss: 0.6945 - accuracy: 0.5114\n",
      "Epoch 74/100\n",
      "700/700 [==============================] - 0s 58us/step - loss: 0.6949 - accuracy: 0.4829\n",
      "Epoch 75/100\n",
      "700/700 [==============================] - ETA: 0s - loss: 0.6951 - accuracy: 0.57 - 0s 104us/step - loss: 0.6945 - accuracy: 0.5671\n",
      "Epoch 76/100\n",
      "700/700 [==============================] - 0s 120us/step - loss: 0.6960 - accuracy: 0.5500\n",
      "Epoch 77/100\n",
      "700/700 [==============================] - 0s 71us/step - loss: 0.6954 - accuracy: 0.5071\n",
      "Epoch 78/100\n",
      "700/700 [==============================] - 0s 84us/step - loss: 0.6945 - accuracy: 0.5114\n",
      "Epoch 79/100\n",
      "700/700 [==============================] - 0s 90us/step - loss: 0.6950 - accuracy: 0.5171\n",
      "Epoch 80/100\n"
     ]
    },
    {
     "name": "stdout",
     "output_type": "stream",
     "text": [
      "700/700 [==============================] - 0s 74us/step - loss: 0.6962 - accuracy: 0.5329\n",
      "Epoch 81/100\n",
      "700/700 [==============================] - 0s 60us/step - loss: 0.6946 - accuracy: 0.4757\n",
      "Epoch 82/100\n",
      "700/700 [==============================] - 0s 65us/step - loss: 0.6939 - accuracy: 0.5129\n",
      "Epoch 83/100\n",
      "700/700 [==============================] - 0s 77us/step - loss: 0.6952 - accuracy: 0.4800\n",
      "Epoch 84/100\n",
      "700/700 [==============================] - 0s 60us/step - loss: 0.6944 - accuracy: 0.5143\n",
      "Epoch 85/100\n",
      "700/700 [==============================] - 0s 51us/step - loss: 0.6951 - accuracy: 0.5643\n",
      "Epoch 86/100\n",
      "700/700 [==============================] - 0s 49us/step - loss: 0.6950 - accuracy: 0.5029\n",
      "Epoch 87/100\n",
      "700/700 [==============================] - 0s 50us/step - loss: 0.6946 - accuracy: 0.5400\n",
      "Epoch 88/100\n",
      "700/700 [==============================] - 0s 45us/step - loss: 0.6974 - accuracy: 0.4157\n",
      "Epoch 89/100\n",
      "700/700 [==============================] - 0s 56us/step - loss: 0.6957 - accuracy: 0.5171\n",
      "Epoch 90/100\n",
      "700/700 [==============================] - 0s 46us/step - loss: 0.6944 - accuracy: 0.5386\n",
      "Epoch 91/100\n",
      "700/700 [==============================] - 0s 48us/step - loss: 0.6958 - accuracy: 0.4686\n",
      "Epoch 92/100\n",
      "700/700 [==============================] - 0s 48us/step - loss: 0.6949 - accuracy: 0.5086\n",
      "Epoch 93/100\n",
      "700/700 [==============================] - 0s 48us/step - loss: 0.6964 - accuracy: 0.4857\n",
      "Epoch 94/100\n",
      "700/700 [==============================] - 0s 45us/step - loss: 0.6951 - accuracy: 0.5714\n",
      "Epoch 95/100\n",
      "700/700 [==============================] - 0s 45us/step - loss: 0.6949 - accuracy: 0.5186\n",
      "Epoch 96/100\n",
      "700/700 [==============================] - 0s 47us/step - loss: 0.6959 - accuracy: 0.4171\n",
      "Epoch 97/100\n",
      "700/700 [==============================] - 0s 46us/step - loss: 0.6960 - accuracy: 0.5214\n",
      "Epoch 98/100\n",
      "700/700 [==============================] - 0s 60us/step - loss: 0.6940 - accuracy: 0.5429\n",
      "Epoch 99/100\n",
      "700/700 [==============================] - 0s 52us/step - loss: 0.6943 - accuracy: 0.5314\n",
      "Epoch 100/100\n",
      "700/700 [==============================] - 0s 65us/step - loss: 0.6943 - accuracy: 0.4629\n",
      "300/300 [==============================] - 0s 114us/step\n",
      "\n",
      "\n",
      "Test loss: 0.6946334274609883 Test accuracy: 0.4466666579246521\n"
     ]
    },
    {
     "data": {
      "image/png": "[encoded data removed]",
      "text/plain": [
       "<Figure size 864x576 with 1 Axes>"
      ]
     },
     "metadata": {
      "needs_background": "light"
     },
     "output_type": "display_data"
    }
   ],
   "source": [
    "model = Sequential()\n",
    "model.add(Dense(1, input_shape=(2,), activation=\"sigmoid\"))\n",
    "#   Compile the model.  Minimize crossentopy for a binary.  Maximize for accuracy\n",
    "model.compile(Adam(lr=0.05), 'binary_crossentropy', metrics=['accuracy'])\n",
    "#   Fit the model with the data from make_blobs.  Make 100 cycles through the data.\n",
    "#       Set verbose to 0 to supress progress messages \n",
    "model.fit(X_train, y_train, epochs=100, verbose=1)\n",
    "#   Get loss and accuracy on test data\n",
    "eval_result = model.evaluate(X_test, y_test)\n",
    "print(\"\\n\\nTest loss:\", eval_result[0], \"Test accuracy:\", eval_result[1])\n",
    "#   Plot the decision boundary\n",
    "plot_decision_boundary(model, X, y).show()\n"
   ]
  },
  {
   "cell_type": "code",
   "execution_count": 59,
   "metadata": {},
   "outputs": [],
   "source": [
    "#model = keras.models.sequential()\n",
    "model.add(Dense(32, input_dim=9))\n",
    "model.add(Dense(128))\n",
    "model.add(Dense(1))\n",
    "model.compile(optimizer='adam', loss='mse')"
   ]
  },
  {
   "cell_type": "code",
   "execution_count": 64,
   "metadata": {},
   "outputs": [],
   "source": [
    "import pandas as pd\n",
    "from sklearn.preprocessing import MinMaxScaler\n",
    "\n",
    "training_data_df = pd.read_csv(\"sales_data_training.csv\")\n",
    "test_data_df = pd.read_csv(\"sales_data_test.csv\")"
   ]
  },
  {
   "cell_type": "code",
   "execution_count": 65,
   "metadata": {},
   "outputs": [
    {
     "name": "stdout",
     "output_type": "stream",
     "text": [
      "Note: total_earnings values were scaled by multiplying by 0.0000036968 and adding -0.115913\n"
     ]
    }
   ],
   "source": [
    "scaler = MinMaxScaler(feature_range=(0, 1))\n",
    "scaled_training = scaler.fit_transform(training_data_df)\n",
    "scaled_testing = scaler.transform(test_data_df)\n",
    "print(\"Note: total_earnings values were scaled by multiplying by {:.10f} and adding {:.6f}\".format(scaler.scale_[8], scaler.min_[8]))\n",
    "\n",
    "scaled_training_df = pd.DataFrame(scaled_training, columns=training_data_df.columns.values)\n",
    "scaled_testing_df = pd.DataFrame(scaled_testing, columns=test_data_df.columns.values)\n",
    "\n",
    "scaled_training_df.to_csv(\"sales_data_training_scaled.csv\", index=False)\n",
    "scaled_testing_df.to_csv(\"sales_data_testing_scaled.csv\", index=False)"
   ]
  },
  {
   "cell_type": "code",
   "execution_count": 101,
   "metadata": {},
   "outputs": [],
   "source": [
    "import pandas as pd\n",
    "import keras\n",
    "from keras.models import Sequential\n",
    "from keras.layers import *\n",
    "\n",
    "#RUN_NAME = \"run 2 with 5 nodes\"\n",
    "training_data_df = pd.read_csv(\"sales_data_training_scaled.csv\")\n",
    "\n",
    "X = training_data_df.drop('total_earnings', axis=1).values\n",
    "Y = training_data_df[['total_earnings']].values\n",
    "\n",
    "model = Sequential()\n",
    "model.add(Dense(50, input_dim=9, activation='relu', name='layer_1'))\n",
    "model.add(Dense(100, activation='relu', name='layer_2'))\n",
    "model.add(Dense(50, activation='relu', name='layer_3'))\n",
    "model.add(Dense(1, activation='linear', name='output_layer'))\n",
    "model.compile(loss=\"mean_squared_error\", optimizer=\"adam\")"
   ]
  },
  {
   "cell_type": "code",
   "execution_count": 102,
   "metadata": {},
   "outputs": [
    {
     "name": "stdout",
     "output_type": "stream",
     "text": [
      "Epoch 1/50\n",
      " - 0s - loss: 0.0740\n",
      "Epoch 2/50\n",
      " - 0s - loss: 0.0147\n",
      "Epoch 3/50\n",
      " - 0s - loss: 0.0116\n",
      "Epoch 4/50\n",
      " - 0s - loss: 0.0085\n",
      "Epoch 5/50\n",
      " - 0s - loss: 0.0056\n",
      "Epoch 6/50\n",
      " - 0s - loss: 0.0040\n",
      "Epoch 7/50\n",
      " - 0s - loss: 0.0030\n",
      "Epoch 8/50\n",
      " - 0s - loss: 0.0023\n",
      "Epoch 9/50\n",
      " - 0s - loss: 0.0018\n",
      "Epoch 10/50\n",
      " - 0s - loss: 0.0016\n",
      "Epoch 11/50\n",
      " - 0s - loss: 0.0014\n",
      "Epoch 12/50\n",
      " - 0s - loss: 0.0013\n",
      "Epoch 13/50\n",
      " - 0s - loss: 0.0011\n",
      "Epoch 14/50\n",
      " - 0s - loss: 0.0010\n",
      "Epoch 15/50\n",
      " - 0s - loss: 9.9891e-04\n",
      "Epoch 16/50\n",
      " - 0s - loss: 8.6359e-04\n",
      "Epoch 17/50\n",
      " - 0s - loss: 8.6688e-04\n",
      "Epoch 18/50\n",
      " - 0s - loss: 7.0128e-04\n",
      "Epoch 19/50\n",
      " - 0s - loss: 6.6954e-04\n",
      "Epoch 20/50\n",
      " - 0s - loss: 5.9736e-04\n",
      "Epoch 21/50\n",
      " - 0s - loss: 5.6390e-04\n",
      "Epoch 22/50\n",
      " - 0s - loss: 6.1057e-04\n",
      "Epoch 23/50\n",
      " - 0s - loss: 5.1884e-04\n",
      "Epoch 24/50\n",
      " - 0s - loss: 4.5746e-04\n",
      "Epoch 25/50\n",
      " - 0s - loss: 4.3373e-04\n",
      "Epoch 26/50\n",
      " - 0s - loss: 3.9344e-04\n",
      "Epoch 27/50\n",
      " - 0s - loss: 3.6442e-04\n",
      "Epoch 28/50\n",
      " - 0s - loss: 3.3348e-04\n",
      "Epoch 29/50\n",
      " - 0s - loss: 3.3046e-04\n",
      "Epoch 30/50\n",
      " - 0s - loss: 3.0182e-04\n",
      "Epoch 31/50\n",
      " - 0s - loss: 2.8937e-04\n",
      "Epoch 32/50\n",
      " - 0s - loss: 2.7219e-04\n",
      "Epoch 33/50\n",
      " - 0s - loss: 2.6863e-04\n",
      "Epoch 34/50\n",
      " - 0s - loss: 2.4313e-04\n",
      "Epoch 35/50\n",
      " - 0s - loss: 2.1929e-04\n",
      "Epoch 36/50\n",
      " - 0s - loss: 2.4269e-04\n",
      "Epoch 37/50\n",
      " - 0s - loss: 2.2334e-04\n",
      "Epoch 38/50\n",
      " - 0s - loss: 2.2494e-04\n",
      "Epoch 39/50\n",
      " - 0s - loss: 1.8864e-04\n",
      "Epoch 40/50\n",
      " - 0s - loss: 1.7716e-04\n",
      "Epoch 41/50\n",
      " - 0s - loss: 1.7424e-04\n",
      "Epoch 42/50\n",
      " - 0s - loss: 1.7514e-04\n",
      "Epoch 43/50\n",
      " - 0s - loss: 1.6838e-04\n",
      "Epoch 44/50\n",
      " - 0s - loss: 1.6625e-04\n",
      "Epoch 45/50\n",
      " - 0s - loss: 1.6293e-04\n",
      "Epoch 46/50\n",
      " - 0s - loss: 1.3810e-04\n",
      "Epoch 47/50\n",
      " - 0s - loss: 1.3443e-04\n",
      "Epoch 48/50\n",
      " - 0s - loss: 1.3836e-04\n",
      "Epoch 49/50\n",
      " - 0s - loss: 1.2570e-04\n",
      "Epoch 50/50\n",
      " - 0s - loss: 1.2560e-04\n",
      "The mean squared error (MSE) for the test data set is: 0.00036540792672894894\n"
     ]
    }
   ],
   "source": [
    "# Create a TensorBoard logger\n",
    "#logger = keras.callbacks.TensorBoard(\n",
    "    #log_dir='logs',\n",
    "    #write_graph=True,\n",
    "    #histogram_freq=5)\n",
    "\n",
    "\n",
    "# Train the model\n",
    "model.fit(\n",
    "    X,\n",
    "    Y,\n",
    "    epochs=50,\n",
    "    shuffle=True,\n",
    "    verbose=2,\n",
    "    #callbacks=[logger]\n",
    ")\n",
    "\n",
    "# Load the separate test data set\n",
    "test_data_df = pd.read_csv(\"sales_data_test_scaled.csv\")\n",
    "\n",
    "X_test = test_data_df.drop('total_earnings', axis=1).values\n",
    "Y_test = test_data_df[['total_earnings']].values\n",
    "\n",
    "test_error_rate = model.evaluate(X_test, Y_test, verbose=0)\n",
    "print(\"The mean squared error (MSE) for the test data set is: {}\".format(test_error_rate))"
   ]
  },
  {
   "cell_type": "code",
   "execution_count": 78,
   "metadata": {},
   "outputs": [
    {
     "name": "stdout",
     "output_type": "stream",
     "text": [
      "Earnings Prediction for Proposed Product - $131305.67773444598\n"
     ]
    }
   ],
   "source": [
    "X = pd.read_csv(\"proposed_new_product.csv\").values\n",
    "\n",
    "prediction = model.predict(X)\n",
    "\n",
    "# Grab just the first element of the first prediction (since that's the only have one)\n",
    "prediction = prediction[0][0]\n",
    "\n",
    "# Re-scale the data from the 0-to-1 range back to dollars\n",
    "# These constants are from when the data was originally scaled down to the 0-to-1 range\n",
    "prediction = prediction + 0.1159\n",
    "prediction = prediction / 0.0000036968\n",
    "\n",
    "print(\"Earnings Prediction for Proposed Product - ${}\".format(prediction))"
   ]
  },
  {
   "cell_type": "code",
   "execution_count": 79,
   "metadata": {},
   "outputs": [
    {
     "name": "stdout",
     "output_type": "stream",
     "text": [
      "Model saved to disk.\n"
     ]
    }
   ],
   "source": [
    "model.save(\"trained_model.h5\")\n",
    "print(\"Model saved to disk.\")\n"
   ]
  },
  {
   "cell_type": "code",
   "execution_count": 80,
   "metadata": {},
   "outputs": [
    {
     "name": "stdout",
     "output_type": "stream",
     "text": [
      "Earnings Prediction for Proposed Product - $131305.67773444598\n"
     ]
    }
   ],
   "source": [
    "import pandas as pd\n",
    "from keras.models import load_model\n",
    "\n",
    "model = load_model('trained_model.h5')\n",
    "\n",
    "X = pd.read_csv(\"proposed_new_product.csv\").values\n",
    "prediction = model.predict(X)\n",
    "\n",
    "# Grab just the first element of the first prediction (since we only have one)\n",
    "prediction = prediction[0][0]\n",
    "\n",
    "# Re-scale the data from the 0-to-1 range back to dollars\n",
    "# These constants are from when the data was originally scaled down to the 0-to-1 range\n",
    "prediction = prediction + 0.1159\n",
    "prediction = prediction / 0.0000036968\n",
    "\n",
    "print(\"Earnings Prediction for Proposed Product - ${}\".format(prediction))\n"
   ]
  },
  {
   "cell_type": "code",
   "execution_count": 50,
   "metadata": {},
   "outputs": [],
   "source": [
    "# Load Keras' ResNet50 model that was pre-trained against the ImageNet database\n",
    "#model = resnet50.ResNet50()\n",
    "\n",
    "# Load the image file, resizing it to 224x224 pixels (required by this model)\n",
    "#img = image.load_img(\"bay.jpg\", target_size=(224, 224))\n",
    "\n",
    "# Convert the image to a numpy array\n",
    "#x = image.img_to_array(img)\n",
    "\n",
    "# Add a forth dimension since Keras expects a list of images\n",
    "#x = np.expand_dims(x, axis=0)\n",
    "\n",
    "# Scale the input image to the range used in the trained network\n",
    "#x = resnet50.preprocess_input(x)\n",
    "\n",
    "# Run the image through the deep neural network to make a prediction\n",
    "#predictions = model.predict(x)\n",
    "\n",
    "# Look up the names of the predicted classes. Index zero is the results for the first image.\n",
    "#predicted_classes = resnet50.decode_predictions(predictions, top=9)\n",
    "\n",
    "#print(\"This is an image of:\")\n",
    "\n",
    "#for imagenet_id, name, likelihood in predicted_classes[0]:\n",
    "#print(\" - {}: {:2f} likelihood\".format(name, likelihood))\n"
   ]
  },
  {
   "cell_type": "code",
   "execution_count": 106,
   "metadata": {},
   "outputs": [
    {
     "name": "stdout",
     "output_type": "stream",
     "text": [
      "The tensorboard extension is already loaded. To reload it, use:\n",
      "  %reload_ext tensorboard\n"
     ]
    }
   ],
   "source": [
    "%load_ext tensorboard\n",
    "import tensorflow as tf\n",
    "import datetime\n",
    "\n",
    "!rm -rf ./logs/ "
   ]
  },
  {
   "cell_type": "code",
   "execution_count": 107,
   "metadata": {},
   "outputs": [],
   "source": [
    "model = tf.keras.Sequential()\n",
    "\n",
    "layers = tf.keras.layers\n",
    "BatchNormalization = tf.keras.layers.BatchNormalization\n",
    "Conv2D = tf.keras.layers.Conv2D\n",
    "Flatten = tf.keras.layers.Flatten\n",
    "TensorBoard = tf.keras.callbacks.TensorBoard\n",
    "ModelCheckpoint = tf.keras.callbacks.ModelCheckpoint"
   ]
  },
  {
   "cell_type": "code",
   "execution_count": 108,
   "metadata": {},
   "outputs": [],
   "source": [
    "\n",
    "model.compile(loss=\"mean_squared_error\", optimizer=\"adam\")"
   ]
  },
  {
   "cell_type": "code",
   "execution_count": 109,
   "metadata": {},
   "outputs": [
    {
     "name": "stdout",
     "output_type": "stream",
     "text": [
      "Train on 1000 samples\n",
      "Epoch 1/50\n",
      "WARNING:tensorflow:The list of trainable weights is empty. Make sure that you are not setting model.trainable to False before compiling the model.\n",
      "1000/1000 - 1s - loss: 0.2333\n",
      "Epoch 2/50\n",
      "1000/1000 - 0s - loss: 0.2333\n",
      "Epoch 3/50\n",
      "1000/1000 - 0s - loss: 0.2333\n",
      "Epoch 4/50\n",
      "1000/1000 - 0s - loss: 0.2333\n",
      "Epoch 5/50\n",
      "1000/1000 - 0s - loss: 0.2333\n",
      "Epoch 6/50\n",
      "1000/1000 - 0s - loss: 0.2333\n",
      "Epoch 7/50\n",
      "1000/1000 - 0s - loss: 0.2333\n",
      "Epoch 8/50\n",
      "1000/1000 - 0s - loss: 0.2333\n",
      "Epoch 9/50\n",
      "1000/1000 - 0s - loss: 0.2333\n",
      "Epoch 10/50\n",
      "1000/1000 - 0s - loss: 0.2333\n",
      "Epoch 11/50\n",
      "1000/1000 - 0s - loss: 0.2333\n",
      "Epoch 12/50\n",
      "1000/1000 - 0s - loss: 0.2333\n",
      "Epoch 13/50\n",
      "1000/1000 - 0s - loss: 0.2333\n",
      "Epoch 14/50\n",
      "1000/1000 - 0s - loss: 0.2333\n",
      "Epoch 15/50\n",
      "1000/1000 - 0s - loss: 0.2333\n",
      "Epoch 16/50\n",
      "1000/1000 - 0s - loss: 0.2333\n",
      "Epoch 17/50\n",
      "1000/1000 - 0s - loss: 0.2333\n",
      "Epoch 18/50\n",
      "1000/1000 - 0s - loss: 0.2333\n",
      "Epoch 19/50\n",
      "1000/1000 - 0s - loss: 0.2333\n",
      "Epoch 20/50\n",
      "1000/1000 - 0s - loss: 0.2333\n",
      "Epoch 21/50\n",
      "1000/1000 - 0s - loss: 0.2333\n",
      "Epoch 22/50\n",
      "1000/1000 - 0s - loss: 0.2333\n",
      "Epoch 23/50\n",
      "1000/1000 - 0s - loss: 0.2333\n",
      "Epoch 24/50\n",
      "1000/1000 - 0s - loss: 0.2333\n",
      "Epoch 25/50\n",
      "1000/1000 - 0s - loss: 0.2333\n",
      "Epoch 26/50\n",
      "1000/1000 - 0s - loss: 0.2333\n",
      "Epoch 27/50\n",
      "1000/1000 - 0s - loss: 0.2333\n",
      "Epoch 28/50\n",
      "1000/1000 - 0s - loss: 0.2333\n",
      "Epoch 29/50\n",
      "1000/1000 - 0s - loss: 0.2333\n",
      "Epoch 30/50\n",
      "1000/1000 - 0s - loss: 0.2333\n",
      "Epoch 31/50\n",
      "1000/1000 - 0s - loss: 0.2333\n",
      "Epoch 32/50\n",
      "1000/1000 - 0s - loss: 0.2333\n",
      "Epoch 33/50\n",
      "1000/1000 - 0s - loss: 0.2333\n",
      "Epoch 34/50\n",
      "1000/1000 - 0s - loss: 0.2333\n",
      "Epoch 35/50\n",
      "1000/1000 - 0s - loss: 0.2333\n",
      "Epoch 36/50\n",
      "1000/1000 - 0s - loss: 0.2333\n",
      "Epoch 37/50\n",
      "1000/1000 - 0s - loss: 0.2333\n",
      "Epoch 38/50\n",
      "1000/1000 - 0s - loss: 0.2333\n",
      "Epoch 39/50\n",
      "1000/1000 - 0s - loss: 0.2333\n",
      "Epoch 40/50\n",
      "1000/1000 - 0s - loss: 0.2333\n",
      "Epoch 41/50\n",
      "1000/1000 - 0s - loss: 0.2333\n",
      "Epoch 42/50\n",
      "1000/1000 - 0s - loss: 0.2333\n",
      "Epoch 43/50\n",
      "1000/1000 - 0s - loss: 0.2333\n",
      "Epoch 44/50\n",
      "1000/1000 - 0s - loss: 0.2333\n",
      "Epoch 45/50\n",
      "1000/1000 - 0s - loss: 0.2333\n",
      "Epoch 46/50\n",
      "1000/1000 - 0s - loss: 0.2333\n",
      "Epoch 47/50\n",
      "1000/1000 - 0s - loss: 0.2333\n",
      "Epoch 48/50\n",
      "1000/1000 - 0s - loss: 0.2333\n",
      "Epoch 49/50\n",
      "1000/1000 - 0s - loss: 0.2333\n",
      "Epoch 50/50\n",
      "1000/1000 - 0s - loss: 0.2333\n",
      "The mean squared error (MSE) for the test data set is: 0.23554357647895813\n"
     ]
    }
   ],
   "source": [
    "#logs = \"logs/fit/\" + datetime.datetime.now().strftime(\"%Y%m%d-%H%M%S\")\n",
    "\n",
    "# Create a TensorBoard logger\n",
    "logger = tf.keras.callbacks.TensorBoard(\n",
    "    log_dir='logs',\n",
    "    write_graph=True,\n",
    "    histogram_freq=5)\n",
    "\n",
    "\n",
    "# Train the model\n",
    "model.fit(\n",
    "    X,\n",
    "    Y,\n",
    "    epochs=50,\n",
    "    shuffle=True,\n",
    "    verbose=2,\n",
    "    callbacks=[logger]\n",
    ")\n",
    "\n",
    "# Load the separate test data set\n",
    "test_data_df = pd.read_csv(\"sales_data_test_scaled.csv\")\n",
    "\n",
    "X_test = test_data_df.drop('total_earnings', axis=1).values\n",
    "Y_test = test_data_df[['total_earnings']].values\n",
    "\n",
    "test_error_rate = model.evaluate(X_test, Y_test, verbose=0)\n",
    "print(\"The mean squared error (MSE) for the test data set is: {}\".format(test_error_rate))"
   ]
  },
  {
   "cell_type": "code",
   "execution_count": 114,
   "metadata": {},
   "outputs": [],
   "source": [
    "from __future__ import print_function\n",
    "import keras\n",
    "from keras.datasets import fashion_mnist  # new with Keras 2.1.2.  Yah!!\n",
    "from keras.models import Sequential\n",
    "from keras.layers import Dense, Dropout, Flatten\n",
    "from keras.layers import Conv2D, MaxPooling2D\n",
    "from keras import backend as K\n",
    "\n",
    "#   Supress warning and informational messages\n",
    "import os\n",
    "os.environ['TF_CPP_MIN_LOG_LEVEL'] = '3' \n",
    "\n",
    "# Number of classes - do not change unless the data changes\n",
    "num_classes = 10\n",
    "\n",
    "# sizes of batch and # of epochs of data\n",
    "batch_size = 128\n",
    "epochs = 24\n",
    "\n",
    "# input image dimensions\n",
    "img_rows, img_cols = 28, 28\n",
    "\n",
    "# the data, shuffled and split between train and test sets\n",
    "(x_train, y_train), (x_test, y_test) = fashion_mnist.load_data()  \n",
    "\n",
    "#   Deal with format issues between different backends.  Some put the # of channels in the image before the width and height of image.\n",
    "if K.image_data_format() == 'channels_first':\n",
    "    x_train = x_train.reshape(x_train.shape[0], 1, img_rows, img_cols)\n",
    "    x_test = X_test.reshape(x_test.shape[0], 1, img_rows, img_cols)\n",
    "    input_shape = (1, img_rows, img_cols)\n",
    "    \n",
    "else:\n",
    "    x_train = x_train.reshape(x_train.shape[0], img_rows, img_cols, 1)\n",
    "    x_test = x_test.reshape(x_test.shape[0], img_rows, img_cols, 1)\n",
    "    input_shape = (img_rows, img_cols, 1)\n",
    "\n",
    "#   Type convert and scale the test and training data\n",
    "x_train = x_train.astype('float32')\n",
    "x_test = x_test.astype('float32')\n",
    "x_train /= 255\n",
    "x_test /= 255\n",
    "#print('x_train shape:', x_train.shape)\n",
    "#print('x_test shape:', x_test.shape)"
   ]
  },
  {
   "cell_type": "code",
   "execution_count": 115,
   "metadata": {},
   "outputs": [],
   "source": [
    "# convert class vectors to binary class matrices.  One-hot encoding\n",
    "#  3 => 0 0 0 1 0 0 0 0 0 0 and 1 => 0 1 0 0 0 0 0 0 0 0 \n",
    "y_train = keras.utils.to_categorical(y_train, num_classes)\n",
    "y_test = keras.utils.to_categorical(y_test, num_classes)\n",
    "#print(y_train[:4])   # verify one-hot encoding\n",
    "\n",
    "# Define the model\n",
    "model = Sequential()\n",
    "model.add(Conv2D(32, kernel_size=(3, 3),\n",
    "                activation='relu',\n",
    "                input_shape=input_shape))\n",
    "\n",
    "model.add(MaxPooling2D(pool_size=(2, 2)))\n",
    "model.add(Conv2D(32, (3, 3), activation='relu'))\n",
    "model.add(MaxPooling2D(pool_size=(2, 2)))\n",
    "model.add(Flatten())\n",
    "model.add(Dense(128, activation='relu'))\n",
    "model.add(Dropout(0.5))\n",
    "model.add(Dense(num_classes, activation='softmax'))"
   ]
  },
  {
   "cell_type": "code",
   "execution_count": null,
   "metadata": {},
   "outputs": [
    {
     "name": "stdout",
     "output_type": "stream",
     "text": [
      "Train on 60000 samples, validate on 10000 samples\n",
      "Epoch 1/24\n",
      "60000/60000 [==============================] - 38s 633us/step - loss: 0.6965 - accuracy: 0.7477 - val_loss: 0.4498 - val_accuracy: 0.8342\n",
      "Epoch 2/24\n",
      "60000/60000 [==============================] - 39s 645us/step - loss: 0.4456 - accuracy: 0.8399 - val_loss: 0.3798 - val_accuracy: 0.8598\n",
      "Epoch 3/24\n",
      "60000/60000 [==============================] - 59s 980us/step - loss: 0.3840 - accuracy: 0.8611 - val_loss: 0.3468 - val_accuracy: 0.8732\n",
      "Epoch 4/24\n",
      "60000/60000 [==============================] - 60s 999us/step - loss: 0.3470 - accuracy: 0.8746 - val_loss: 0.3139 - val_accuracy: 0.8874\n",
      "Epoch 5/24\n",
      "60000/60000 [==============================] - 63s 1ms/step - loss: 0.3248 - accuracy: 0.8834 - val_loss: 0.3014 - val_accuracy: 0.8894\n",
      "Epoch 6/24\n",
      "60000/60000 [==============================] - 61s 1ms/step - loss: 0.3064 - accuracy: 0.8882 - val_loss: 0.2886 - val_accuracy: 0.8964\n",
      "Epoch 7/24\n",
      "60000/60000 [==============================] - 56s 926us/step - loss: 0.2922 - accuracy: 0.8946 - val_loss: 0.2902 - val_accuracy: 0.8949\n",
      "Epoch 8/24\n",
      "60000/60000 [==============================] - 49s 816us/step - loss: 0.2771 - accuracy: 0.8997 - val_loss: 0.3131 - val_accuracy: 0.8923\n",
      "Epoch 9/24\n",
      "60000/60000 [==============================] - 767s 13ms/step - loss: 0.2666 - accuracy: 0.9036 - val_loss: 0.2670 - val_accuracy: 0.9034\n",
      "Epoch 10/24\n",
      "60000/60000 [==============================] - 70s 1ms/step - loss: 0.2582 - accuracy: 0.9074 - val_loss: 0.2919 - val_accuracy: 0.8955\n",
      "Epoch 11/24\n",
      "60000/60000 [==============================] - 43s 715us/step - loss: 0.2499 - accuracy: 0.9094 - val_loss: 0.2646 - val_accuracy: 0.9047\n",
      "Epoch 12/24\n",
      "60000/60000 [==============================] - 43s 725us/step - loss: 0.2431 - accuracy: 0.9118 - val_loss: 0.2651 - val_accuracy: 0.9036\n",
      "Epoch 13/24\n",
      "60000/60000 [==============================] - 41s 681us/step - loss: 0.2348 - accuracy: 0.9145 - val_loss: 0.2728 - val_accuracy: 0.9026\n",
      "Epoch 14/24\n",
      "60000/60000 [==============================] - 47s 790us/step - loss: 0.2284 - accuracy: 0.9182 - val_loss: 0.2611 - val_accuracy: 0.9058\n",
      "Epoch 15/24\n",
      "60000/60000 [==============================] - 45s 755us/step - loss: 0.2227 - accuracy: 0.9182 - val_loss: 0.2516 - val_accuracy: 0.9093\n",
      "Epoch 16/24\n",
      "60000/60000 [==============================] - 52s 864us/step - loss: 0.2200 - accuracy: 0.9203 - val_loss: 0.2574 - val_accuracy: 0.9080\n",
      "Epoch 17/24\n",
      "60000/60000 [==============================] - 42s 700us/step - loss: 0.2114 - accuracy: 0.9236 - val_loss: 0.2705 - val_accuracy: 0.9065\n",
      "Epoch 18/24\n",
      "60000/60000 [==============================] - 39s 651us/step - loss: 0.2072 - accuracy: 0.9245 - val_loss: 0.2517 - val_accuracy: 0.9107\n",
      "Epoch 19/24\n",
      "60000/60000 [==============================] - 44s 735us/step - loss: 0.2049 - accuracy: 0.9256 - val_loss: 0.2595 - val_accuracy: 0.9123\n",
      "Epoch 20/24\n",
      "60000/60000 [==============================] - 58s 966us/step - loss: 0.1982 - accuracy: 0.9272 - val_loss: 0.2647 - val_accuracy: 0.9070\n",
      "Epoch 21/24\n",
      "60000/60000 [==============================] - 50s 835us/step - loss: 0.1936 - accuracy: 0.9292 - val_loss: 0.2495 - val_accuracy: 0.9155\n",
      "Epoch 22/24\n",
      "60000/60000 [==============================] - 50s 827us/step - loss: 0.1911 - accuracy: 0.9304 - val_loss: 0.2496 - val_accuracy: 0.9133\n",
      "Epoch 23/24\n",
      "60000/60000 [==============================] - 50s 832us/step - loss: 0.1863 - accuracy: 0.9328 - val_loss: 0.2497 - val_accuracy: 0.9158\n",
      "Epoch 24/24\n",
      " 8192/60000 [===>..........................] - ETA: 44s - loss: 0.1738 - accuracy: 0.9352"
     ]
    }
   ],
   "source": [
    "#   define compile to minimize categorical loss, use ada delta optimized, and optimize to maximizing accuracy\n",
    "model.compile(loss=keras.losses.categorical_crossentropy,\n",
    "              optimizer=keras.optimizers.Adadelta(),\n",
    "              metrics=['accuracy'])\n",
    "\n",
    "#   Train the model and test/validate the mode with the test data after each cycle (epoch) through the training data\n",
    "#   Return history of loss and accuracy for each epoch\n",
    "hist = model.fit(x_train, y_train,\n",
    "          batch_size=batch_size,\n",
    "          epochs=epochs,\n",
    "          verbose=1,\n",
    "          validation_data=(x_test, y_test))\n",
    "\n",
    "#   Evaluate the model with the test data to get the scores on \"real\" data.\n",
    "score = model.evaluate(x_test, y_test, verbose=0)\n",
    "print('Test loss:', score[0])\n",
    "print('Test accuracy:', score[1])\n"
   ]
  },
  {
   "cell_type": "code",
   "execution_count": null,
   "metadata": {},
   "outputs": [],
   "source": [
    "import numpy as np\n",
    "import matplotlib.pyplot as plt\n",
    "epoch_list = list(range(1, len(hist.history['acc']) + 1))  # values for x axis [1, 2, ..., # of epochs]\n",
    "plt.plot(epoch_list, hist.history['acc'], epoch_list, hist.history['val_acc'])\n",
    "plt.legend(('Training Accuracy', 'Validation Accuracy'))\n",
    "plt.show()"
   ]
  }
 ],
 "metadata": {
  "kernelspec": {
   "display_name": "Python 3",
   "language": "python",
   "name": "python3"
  },
  "language_info": {
   "codemirror_mode": {
    "name": "ipython",
    "version": 3
   },
   "file_extension": ".py",
   "mimetype": "text/x-python",
   "name": "python",
   "nbconvert_exporter": "python",
   "pygments_lexer": "ipython3",
   "version": "3.7.2"
  }
 },
 "nbformat": 4,
 "nbformat_minor": 2
}
